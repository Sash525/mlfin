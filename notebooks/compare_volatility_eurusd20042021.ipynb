{
 "cells": [
  {
   "cell_type": "markdown",
   "metadata": {},
   "source": [
    "# Волатильность пары EURUSD по годам 2004 - 2021"
   ]
  },
  {
   "cell_type": "markdown",
   "metadata": {},
   "source": [
    "Посмотрим на волатильность пары EURUSD, по годам, за период 2004 - 2021(по ноябрь).\n",
    "Используем дневные графики, волатильность считаем как стандартное отклонение. Собственно, нам не столько нужно значение волатильности, сколько отношение значения волатильности в 2021 году к волатильности в 2004 году.\n",
    "Ну и другие года интересно посмотреть."
   ]
  },
  {
   "cell_type": "code",
   "execution_count": 1,
   "metadata": {},
   "outputs": [],
   "source": [
    "import numpy as np\n",
    "import pandas as pd\n",
    "%matplotlib inline\n",
    "from pylab import mpl, plt"
   ]
  },
  {
   "cell_type": "markdown",
   "metadata": {},
   "source": [
    "Закачаем данные по евро с 2004 года. Данные берем с Deriv, из других источников (Investing.com) получается то же самое."
   ]
  },
  {
   "cell_type": "code",
   "execution_count": 54,
   "metadata": {},
   "outputs": [],
   "source": [
    "datafile = '/home/sash/Python/projects/mlfin/data/EURUSD_Daily_200401010000_202111040000.csv'\n",
    "df = pd.read_csv(datafile,\n",
    "                 encoding='utf-8',\n",
    "                 index_col=0,\n",
    "                 skiprows=1,\n",
    "                 header= None,\n",
    "                 parse_dates=True,\n",
    "                 names= ['date', 'open','high', 'low', 'close', 'tv', 'vol', 'spread'],\n",
    "                 sep='\\t')\n",
    "df.drop(['tv', 'vol', 'spread'], axis= 1, inplace=True)"
   ]
  },
  {
   "cell_type": "code",
   "execution_count": 65,
   "metadata": {},
   "outputs": [
    {
     "name": "stdout",
     "output_type": "stream",
     "text": [
      "<class 'pandas.core.frame.DataFrame'>\n",
      "DatetimeIndex: 5562 entries, 2004-01-01 to 2021-11-04\n",
      "Data columns (total 4 columns):\n",
      " #   Column  Non-Null Count  Dtype  \n",
      "---  ------  --------------  -----  \n",
      " 0   open    5562 non-null   float64\n",
      " 1   high    5562 non-null   float64\n",
      " 2   low     5562 non-null   float64\n",
      " 3   close   5562 non-null   float64\n",
      "dtypes: float64(4)\n",
      "memory usage: 217.3 KB\n"
     ]
    }
   ],
   "source": [
    "df.info()"
   ]
  },
  {
   "cell_type": "markdown",
   "metadata": {},
   "source": [
    "Вычислим волатильность пары в разбивке по годам."
   ]
  },
  {
   "cell_type": "code",
   "execution_count": 56,
   "metadata": {},
   "outputs": [],
   "source": [
    "year_returns = df.groupby([df.index.year.rename('year')]).std()"
   ]
  },
  {
   "cell_type": "code",
   "execution_count": 58,
   "metadata": {},
   "outputs": [
    {
     "data": {
      "text/html": [
       "<div>\n",
       "<style scoped>\n",
       "    .dataframe tbody tr th:only-of-type {\n",
       "        vertical-align: middle;\n",
       "    }\n",
       "\n",
       "    .dataframe tbody tr th {\n",
       "        vertical-align: top;\n",
       "    }\n",
       "\n",
       "    .dataframe thead th {\n",
       "        text-align: right;\n",
       "    }\n",
       "</style>\n",
       "<table border=\"1\" class=\"dataframe\">\n",
       "  <thead>\n",
       "    <tr style=\"text-align: right;\">\n",
       "      <th></th>\n",
       "      <th>open</th>\n",
       "      <th>high</th>\n",
       "      <th>low</th>\n",
       "      <th>close</th>\n",
       "    </tr>\n",
       "    <tr>\n",
       "      <th>year</th>\n",
       "      <th></th>\n",
       "      <th></th>\n",
       "      <th></th>\n",
       "      <th></th>\n",
       "    </tr>\n",
       "  </thead>\n",
       "  <tbody>\n",
       "    <tr>\n",
       "      <th>2004</th>\n",
       "      <td>0.042290</td>\n",
       "      <td>0.042528</td>\n",
       "      <td>0.042523</td>\n",
       "      <td>0.042764</td>\n",
       "    </tr>\n",
       "    <tr>\n",
       "      <th>2005</th>\n",
       "      <td>0.050865</td>\n",
       "      <td>0.050783</td>\n",
       "      <td>0.050677</td>\n",
       "      <td>0.050531</td>\n",
       "    </tr>\n",
       "    <tr>\n",
       "      <th>2006</th>\n",
       "      <td>0.038102</td>\n",
       "      <td>0.038090</td>\n",
       "      <td>0.038053</td>\n",
       "      <td>0.038025</td>\n",
       "    </tr>\n",
       "    <tr>\n",
       "      <th>2007</th>\n",
       "      <td>0.053193</td>\n",
       "      <td>0.053796</td>\n",
       "      <td>0.052690</td>\n",
       "      <td>0.053366</td>\n",
       "    </tr>\n",
       "    <tr>\n",
       "      <th>2008</th>\n",
       "      <td>0.103354</td>\n",
       "      <td>0.100767</td>\n",
       "      <td>0.105140</td>\n",
       "      <td>0.103555</td>\n",
       "    </tr>\n",
       "    <tr>\n",
       "      <th>2009</th>\n",
       "      <td>0.072613</td>\n",
       "      <td>0.070820</td>\n",
       "      <td>0.073308</td>\n",
       "      <td>0.072494</td>\n",
       "    </tr>\n",
       "    <tr>\n",
       "      <th>2010</th>\n",
       "      <td>0.060092</td>\n",
       "      <td>0.059564</td>\n",
       "      <td>0.060035</td>\n",
       "      <td>0.059786</td>\n",
       "    </tr>\n",
       "    <tr>\n",
       "      <th>2011</th>\n",
       "      <td>0.046413</td>\n",
       "      <td>0.046370</td>\n",
       "      <td>0.046006</td>\n",
       "      <td>0.046590</td>\n",
       "    </tr>\n",
       "    <tr>\n",
       "      <th>2012</th>\n",
       "      <td>0.032745</td>\n",
       "      <td>0.032566</td>\n",
       "      <td>0.032808</td>\n",
       "      <td>0.032808</td>\n",
       "    </tr>\n",
       "    <tr>\n",
       "      <th>2013</th>\n",
       "      <td>0.026395</td>\n",
       "      <td>0.025978</td>\n",
       "      <td>0.026877</td>\n",
       "      <td>0.026443</td>\n",
       "    </tr>\n",
       "    <tr>\n",
       "      <th>2014</th>\n",
       "      <td>0.053024</td>\n",
       "      <td>0.052435</td>\n",
       "      <td>0.053760</td>\n",
       "      <td>0.053405</td>\n",
       "    </tr>\n",
       "    <tr>\n",
       "      <th>2015</th>\n",
       "      <td>0.028923</td>\n",
       "      <td>0.028753</td>\n",
       "      <td>0.028508</td>\n",
       "      <td>0.028466</td>\n",
       "    </tr>\n",
       "    <tr>\n",
       "      <th>2016</th>\n",
       "      <td>0.024779</td>\n",
       "      <td>0.024658</td>\n",
       "      <td>0.025244</td>\n",
       "      <td>0.024917</td>\n",
       "    </tr>\n",
       "    <tr>\n",
       "      <th>2017</th>\n",
       "      <td>0.051092</td>\n",
       "      <td>0.051235</td>\n",
       "      <td>0.051064</td>\n",
       "      <td>0.051180</td>\n",
       "    </tr>\n",
       "    <tr>\n",
       "      <th>2018</th>\n",
       "      <td>0.036857</td>\n",
       "      <td>0.037071</td>\n",
       "      <td>0.036614</td>\n",
       "      <td>0.036887</td>\n",
       "    </tr>\n",
       "    <tr>\n",
       "      <th>2019</th>\n",
       "      <td>0.013485</td>\n",
       "      <td>0.013659</td>\n",
       "      <td>0.013258</td>\n",
       "      <td>0.013404</td>\n",
       "    </tr>\n",
       "    <tr>\n",
       "      <th>2020</th>\n",
       "      <td>0.044114</td>\n",
       "      <td>0.044096</td>\n",
       "      <td>0.044405</td>\n",
       "      <td>0.044331</td>\n",
       "    </tr>\n",
       "    <tr>\n",
       "      <th>2021</th>\n",
       "      <td>0.019715</td>\n",
       "      <td>0.019905</td>\n",
       "      <td>0.019395</td>\n",
       "      <td>0.019751</td>\n",
       "    </tr>\n",
       "  </tbody>\n",
       "</table>\n",
       "</div>"
      ],
      "text/plain": [
       "          open      high       low     close\n",
       "year                                        \n",
       "2004  0.042290  0.042528  0.042523  0.042764\n",
       "2005  0.050865  0.050783  0.050677  0.050531\n",
       "2006  0.038102  0.038090  0.038053  0.038025\n",
       "2007  0.053193  0.053796  0.052690  0.053366\n",
       "2008  0.103354  0.100767  0.105140  0.103555\n",
       "2009  0.072613  0.070820  0.073308  0.072494\n",
       "2010  0.060092  0.059564  0.060035  0.059786\n",
       "2011  0.046413  0.046370  0.046006  0.046590\n",
       "2012  0.032745  0.032566  0.032808  0.032808\n",
       "2013  0.026395  0.025978  0.026877  0.026443\n",
       "2014  0.053024  0.052435  0.053760  0.053405\n",
       "2015  0.028923  0.028753  0.028508  0.028466\n",
       "2016  0.024779  0.024658  0.025244  0.024917\n",
       "2017  0.051092  0.051235  0.051064  0.051180\n",
       "2018  0.036857  0.037071  0.036614  0.036887\n",
       "2019  0.013485  0.013659  0.013258  0.013404\n",
       "2020  0.044114  0.044096  0.044405  0.044331\n",
       "2021  0.019715  0.019905  0.019395  0.019751"
      ]
     },
     "execution_count": 58,
     "metadata": {},
     "output_type": "execute_result"
    }
   ],
   "source": [
    "year_returns"
   ]
  },
  {
   "cell_type": "markdown",
   "metadata": {},
   "source": [
    "Рассчитаем, во сколько раз волатильность в 2021 году меньше, чем в 2004"
   ]
  },
  {
   "cell_type": "code",
   "execution_count": 64,
   "metadata": {},
   "outputs": [
    {
     "name": "stdout",
     "output_type": "stream",
     "text": [
      "2.165208930066993\n"
     ]
    }
   ],
   "source": [
    "difference = year_returns['close'][2004] / year_returns['close'][2021]\n",
    "print(difference)"
   ]
  },
  {
   "cell_type": "markdown",
   "metadata": {},
   "source": [
    "Ну и посмотрим на графике, как менялась волатильность по годам"
   ]
  },
  {
   "cell_type": "code",
   "execution_count": 53,
   "metadata": {},
   "outputs": [
    {
     "data": {
      "text/plain": [
       "<AxesSubplot:xlabel='year'>"
      ]
     },
     "execution_count": 53,
     "metadata": {},
     "output_type": "execute_result"
    },
    {
     "data": {
      "image/png": "[encoded data removed]",
      "text/plain": [
       "<Figure size 432x288 with 1 Axes>"
      ]
     },
     "metadata": {
      "needs_background": "light"
     },
     "output_type": "display_data"
    }
   ],
   "source": [
    "year_returns['close'].plot()"
   ]
  },
  {
   "cell_type": "code",
   "execution_count": null,
   "metadata": {},
   "outputs": [],
   "source": [
    "y"
   ]
  }
 ],
 "metadata": {
  "interpreter": {
   "hash": "278e5fc50c198d3af5911dcd5bb4cbddc7deb19b7e04ee719365a84bb9aa3436"
  },
  "kernelspec": {
   "display_name": "Python 3.9.7 64-bit (conda)",
   "name": "python3"
  },
  "language_info": {
   "codemirror_mode": {
    "name": "ipython",
    "version": 3
   },
   "file_extension": ".py",
   "mimetype": "text/x-python",
   "name": "python",
   "nbconvert_exporter": "python",
   "pygments_lexer": "ipython3",
   "version": "3.9.7"
  },
  "orig_nbformat": 4
 },
 "nbformat": 4,
 "nbformat_minor": 2
}
